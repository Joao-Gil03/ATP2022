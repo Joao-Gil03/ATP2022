{
 "cells": [
  {
   "cell_type": "markdown",
   "id": "1e545158",
   "metadata": {},
   "source": [
    "# Aula Prática 8 (guião)\n",
    "### Semana de 7 de Novembro a 11 de Novembro de 2022\n",
    "### José Carlos Ramalho e Luís Cunha\n",
    "### Sinopsis:\n",
    "Consolidação e aferição de tudo o que foi feito até ao momento. "
   ]
  },
  {
   "cell_type": "markdown",
   "id": "9b9b5140-2b81-435e-9fc0-324437a7b453",
   "metadata": {},
   "source": [
    "### Assunto: Frações\n",
    "Vamos pensar num modelo: o que é uma fração estruturalmente?"
   ]
  },
  {
   "cell_type": "code",
   "execution_count": 7,
   "id": "5a6da5eb",
   "metadata": {},
   "outputs": [],
   "source": [
    "# Modelo duma fração\n",
    "f1 = (1,2)\n",
    "# Modelo duma lista de frações~\n",
    "fracoes = [(1,2),(2,3),(5,4)]"
   ]
  },
  {
   "cell_type": "markdown",
   "id": "d477052b-e074-4a5d-ac12-85c2286a1e5f",
   "metadata": {},
   "source": [
    "### Construtor"
   ]
  },
  {
   "cell_type": "code",
   "execution_count": 9,
   "id": "33d1c7e9-22af-4473-9b21-3e7ce0fcf571",
   "metadata": {},
   "outputs": [
    {
     "name": "stdout",
     "output_type": "stream",
     "text": [
      "(1, 2)\n",
      "1/2 "
     ]
    }
   ],
   "source": [
    "def criarFracao(numerador, denominador):\n",
    "\n",
    "    return (numerador, denominador)\n",
    "f2 = criarFracao(1,2)\n",
    "print(f2)\n",
    "\n",
    "def verFracao(f):\n",
    "    #print(str(f[0])+'/'+str(f[1]),end=' ')\n",
    "    #print(str(f[0]),'/',str(f[1]),sep='',end=' ')\n",
    "    print(f'{f[0]}/{f[1]}',end=' ')\n",
    "verFracao(f2)"
   ]
  },
  {
   "cell_type": "code",
   "execution_count": 10,
   "id": "ec3b7dad",
   "metadata": {},
   "outputs": [
    {
     "name": "stdout",
     "output_type": "stream",
     "text": [
      "1/2 2/3 5/4 "
     ]
    }
   ],
   "source": [
    "def ver_lista_fracao(lista):\n",
    "    for f in lista:\n",
    "        verFracao(f)\n",
    "ver_lista_fracao(fracoes)"
   ]
  },
  {
   "cell_type": "code",
   "execution_count": 11,
   "id": "d46df3ff",
   "metadata": {},
   "outputs": [
    {
     "name": "stdout",
     "output_type": "stream",
     "text": [
      "2/3 "
     ]
    }
   ],
   "source": [
    "f1 = criarFracao(2,3)\n",
    "verFracao(f1)"
   ]
  },
  {
   "cell_type": "markdown",
   "id": "f7cd0ff1",
   "metadata": {},
   "source": [
    "### Simplificação de frações"
   ]
  },
  {
   "cell_type": "code",
   "execution_count": 18,
   "id": "3a8f2cda",
   "metadata": {},
   "outputs": [],
   "source": [
    "def mdc(a,b):\n",
    "    if a> b:\n",
    "        menor = b\n",
    "    else:\n",
    "        menor =a\n",
    "    n=1\n",
    "    while n <= menor:\n",
    "        if a% n == 0 and b % n== 0:\n",
    "            res = n\n",
    "        n=n+1\n",
    "    '''for n in range ( 1,menor+1):\n",
    "         if a% n == 0 and b %n ==0:\n",
    "            res = n\n",
    "    '''\n",
    "    \n",
    "\n",
    "    return res\n",
    "\n",
    "def mdc_Sub(a,b):\n",
    "    if a == b:\n",
    "        return a\n",
    "    if a > b:\n",
    "        return mdc_Sub(a-b,b)\n",
    "    else:\n",
    "        return mdc_Sub(a,b-a)\n",
    "    \n",
    "\n",
    "mdc_Sub(25,30)\n",
    "\n",
    "\n",
    "\n",
    "def mdc1(a,b):\n",
    "    if a%b ==0:\n",
    "        return b\n",
    "    return mdc1(b,a%b)\n",
    "\n",
    "\n",
    "\n",
    "\n",
    "\n"
   ]
  },
  {
   "cell_type": "code",
   "execution_count": 25,
   "id": "8b0fa08f",
   "metadata": {},
   "outputs": [
    {
     "name": "stdout",
     "output_type": "stream",
     "text": [
      "(1, 25)\n"
     ]
    }
   ],
   "source": [
    "def simplificarFracao(f):\n",
    "    res = mdc1 (f[0],f[1])\n",
    "    \n",
    "    \n",
    "    return criarFracao(int(f[0]/res),int(f[1]/res)) \n",
    "\n",
    "\n",
    "f3=(40,1000)\n",
    "print(simplificarFracao(f3))"
   ]
  },
  {
   "cell_type": "code",
   "execution_count": 14,
   "id": "8821d031",
   "metadata": {},
   "outputs": [
    {
     "name": "stdout",
     "output_type": "stream",
     "text": [
      "3/20 "
     ]
    }
   ],
   "source": [
    "verFracao(simplificarFracao(criarFracao(21, 140)))"
   ]
  },
  {
   "cell_type": "markdown",
   "id": "d52f012f",
   "metadata": {},
   "source": [
    "## Operações sobre frações"
   ]
  },
  {
   "cell_type": "code",
   "execution_count": 15,
   "id": "96ba280b",
   "metadata": {},
   "outputs": [
    {
     "name": "stdout",
     "output_type": "stream",
     "text": [
      "29/21 "
     ]
    }
   ],
   "source": [
    "def somarFrac(f1, f2):\n",
    "    num1, denum1 = f1\n",
    "    num2,denum2= f2\n",
    "    \n",
    "    return (num1*denum2 + num2*denum1, denum1*denum2) \n",
    "\n",
    "f2 = criarFracao(5,7)\n",
    "verFracao(somarFrac(f1,f2))"
   ]
  },
  {
   "cell_type": "code",
   "execution_count": 16,
   "id": "a0198bce",
   "metadata": {},
   "outputs": [
    {
     "name": "stdout",
     "output_type": "stream",
     "text": [
      "[(9, 6), (4, 5), (7, 9), (7, 13), (4, 18), (6, 11), (5, 12), (7, 11), (2, 19), (7, 9), (8, 9), (2, 16), (7, 7), (5, 3), (6, 17), (9, 14), (6, 11), (4, 19), (6, 5)]\n"
     ]
    }
   ],
   "source": [
    "listaFrac = [f1, f2, criarFracao(125,1000), (8,12)]\n",
    "listaFrac2 = []\n",
    "import random\n",
    "for i in range(1,20):\n",
    "    n = random.randrange(1, 10)\n",
    "    d = random.randrange(2, 20)\n",
    "    listaFrac2.append(criarFracao(n,d))\n",
    "print(listaFrac2)"
   ]
  },
  {
   "cell_type": "markdown",
   "id": "e83e4eae",
   "metadata": {},
   "source": [
    "### Soma uma lista de frações"
   ]
  },
  {
   "cell_type": "code",
   "execution_count": 26,
   "id": "402d83f0",
   "metadata": {},
   "outputs": [
    {
     "name": "stdout",
     "output_type": "stream",
     "text": [
      "(365, 168)\n",
      "(33502269, 2586584)\n"
     ]
    }
   ],
   "source": [
    "def somarListaFrac(lista):\n",
    "    res=lista[0]\n",
    "    for f in lista[1:]:\n",
    "\n",
    "        res = simplificarFracao(somarFrac(res,f))\n",
    "    return res\n",
    "print(simplificarFracao(somarListaFrac(listaFrac)))\n",
    "print(somarListaFrac(listaFrac2))"
   ]
  },
  {
   "cell_type": "markdown",
   "id": "a88929cc",
   "metadata": {},
   "source": [
    "### Multiplica 2 frações"
   ]
  },
  {
   "cell_type": "code",
   "execution_count": null,
   "id": "519c5358",
   "metadata": {},
   "outputs": [],
   "source": [
    "def multFrac(f1, f2):\n",
    "    # ???\n",
    "    return # ???"
   ]
  },
  {
   "cell_type": "markdown",
   "id": "fcd5b5d6",
   "metadata": {},
   "source": [
    "### Guardar uma lista de frações num ficheiro"
   ]
  },
  {
   "cell_type": "code",
   "execution_count": 32,
   "id": "2840f9b2",
   "metadata": {},
   "outputs": [],
   "source": [
    "def gravaListaFrac(fnome,lista):\n",
    "    file =open (fnome,'w')\n",
    "    for f in lista:\n",
    "        \n",
    "        file.write (f'{f[0]}/{f[1]}\\n')\n",
    "\n",
    "\n",
    "\n",
    "\n",
    "    file.close()\n",
    "    return \n",
    "\n",
    "\n",
    "\n",
    "gravaListaFrac('fracoes.txt',listaFrac2)"
   ]
  },
  {
   "cell_type": "markdown",
   "id": "0664fcdc",
   "metadata": {},
   "source": [
    "### Recuperar uma lista de frações dum ficheiro"
   ]
  },
  {
   "cell_type": "code",
   "execution_count": null,
   "id": "82aece6e",
   "metadata": {},
   "outputs": [],
   "source": [
    "def carregaListaFrac(fnome):\n",
    "    lista=[]\n",
    "    file = open(fnome)\n",
    "    for line in file:\n",
    "        fracao = line.split('/')\n",
    "        #fracao[1]= fracao[1][:-1]\n",
    "        fracao[1] = fracao[1].strip()\n",
    "        #fracao[1]=fracao[1].rstrip()\n",
    "        #fracao[1)=fracao[1].replace('\\n','')\n",
    "        fracao = (int(fracao[0]),int(fracao[1]))\n",
    "\n",
    "\n",
    "\n",
    "\n",
    "        #fracao = tuple(fracao)\n",
    "        lista.append(fracao)\n",
    "\n",
    "\n",
    "\n",
    "    file.close()\n",
    "    return lista"
   ]
  },
  {
   "cell_type": "markdown",
   "id": "4193a91b",
   "metadata": {},
   "source": [
    "### TPC8: Teste de aferição\n",
    "\n",
    "Resolva os problemas apresentados a seguir."
   ]
  },
  {
   "cell_type": "markdown",
   "id": "4e758271",
   "metadata": {},
   "source": [
    "### tpc1.a) Recebe duas strings, _s1_ e _s2_, e retorna o comprimento da substring inicial de _s1_ que não contem nenhum caráter de _s2_:"
   ]
  },
  {
   "cell_type": "code",
   "execution_count": 18,
   "id": "4ae7f5d0",
   "metadata": {},
   "outputs": [
    {
     "data": {
      "text/plain": [
       "5"
      ]
     },
     "execution_count": 18,
     "metadata": {},
     "output_type": "execute_result"
    }
   ],
   "source": [
    "def inicDiferente(s1, s2):\n",
    "    lista = []\n",
    "    lista2 = []\n",
    "    res=0\n",
    "    n=0\n",
    "    i = 0\n",
    "    while n< len(s2):\n",
    "        p = s2[n]\n",
    "        if p != ' ':\n",
    "            lista.append(p)\n",
    "        n=n+1\n",
    "    while i < len(s1):\n",
    "        if s1[i] not in lista and s1[i]!=' ':\n",
    "            res = res + 1\n",
    "            \n",
    "    \n",
    "    \n",
    "        i = i + 1\n",
    "        \n",
    "        \n",
    "    return res\n",
    "\n",
    "inicDiferente(\"Está um bom dia...\", \"Hoje é um dia alegre.\")\n",
    "# resultado esperado: 4"
   ]
  },
  {
   "cell_type": "markdown",
   "id": "28cb3dc4",
   "metadata": {},
   "source": [
    "### tpc1.b) Recebe um parâmetro _n_ e lê _n_ números inteiros; no fim retorna quantos dos números lidos são superiores à média dos números lidos:"
   ]
  },
  {
   "cell_type": "code",
   "execution_count": 23,
   "id": "4458c7bc",
   "metadata": {},
   "outputs": [
    {
     "data": {
      "text/plain": [
       "2"
      ]
     },
     "execution_count": 23,
     "metadata": {},
     "output_type": "execute_result"
    }
   ],
   "source": [
    "def acimaMedia(n):\n",
    "    res = 0\n",
    "    soma = 0\n",
    "    lista=[]\n",
    "    while 0< n:\n",
    "        a = (int(input('Escolha o número')))\n",
    "        lista.append(a)\n",
    "        soma = soma + a\n",
    "        n = n -1 \n",
    "    média = soma/len(lista)\n",
    "    for i in lista:\n",
    "        if i > média:\n",
    "            res=res+1\n",
    "    \n",
    "    return res\n",
    "\n",
    "acimaMedia(5)"
   ]
  },
  {
   "cell_type": "markdown",
   "id": "e6db31d7",
   "metadata": {},
   "source": [
    "### tpc1.c) Faz o merge de duas listas ordenadas, retornando uma lista ordenada com os elementos das duas listas (__não podes usar nenhuma função de ordenação do Python__):"
   ]
  },
  {
   "cell_type": "code",
   "execution_count": 30,
   "id": "2b5ad344",
   "metadata": {},
   "outputs": [
    {
     "data": {
      "text/plain": [
       "[1, 2, 3, 4, 6, 7, 9, 12]"
      ]
     },
     "execution_count": 30,
     "metadata": {},
     "output_type": "execute_result"
    }
   ],
   "source": [
    "def merge(l1, l2):\n",
    "        lista=l1\n",
    "        for i in l2:\n",
    "                lista.append(i)\n",
    "        j = 0\n",
    "        condição = True\n",
    "        while condição== True:\n",
    "                i = 1\n",
    "                condição = False\n",
    "                while i < len(lista):\n",
    "                        if lista[i] < lista [i-1]:\n",
    "                                lista[i],lista[i-1]=lista[i-1],lista[i]\n",
    "                                condição =True\n",
    "                \n",
    "                \n",
    "                        i=i+1\n",
    "                j = j + 1\n",
    "\n",
    "        return lista\n",
    "    \n",
    "merge([1,2,6,9], [3,4,7,12])\n",
    "# Resultado esperado: [1,2,3,4,6,7,9,12]"
   ]
  },
  {
   "cell_type": "markdown",
   "id": "6698b337",
   "metadata": {},
   "source": [
    "### tpc1.d) Recebe o nome de dois ficheiros de texto, _f1_ e _f2_, e indica se são iguais (__True__) no seu conteúdo ou se são diferentes (__False__):"
   ]
  },
  {
   "cell_type": "code",
   "execution_count": null,
   "id": "54cef309",
   "metadata": {},
   "outputs": [],
   "source": [
    "def figuais(f1, f2):\n",
    "    f1 = open(f1, \"r\")\n",
    "    f2 = open(f2, \"r\")\n",
    "    for linha1 in f1:\n",
    "        for linha2 in f2:\n",
    "            if linha1 != linha2:\n",
    "                return False\n",
    "    return True\n",
    "\n",
    "#print(figuais(\"texto1.txt\", \"texto1.txt\"))\n",
    "#print(figuais(\"texto1.txt\", \"texto2.txt\"))"
   ]
  },
  {
   "cell_type": "markdown",
   "id": "7cd572fc",
   "metadata": {},
   "source": [
    "## Questão 2: Gestão de uma Cinemateca\n",
    "\n",
    "Analise as seguintes estruturas de dados que materializam o modelo de uma cinemateca:"
   ]
  },
  {
   "cell_type": "code",
   "execution_count": 31,
   "id": "76e9e621",
   "metadata": {},
   "outputs": [],
   "source": [
    "# Cinemateca = [Filme]\n",
    "# Pub = (Título, Ano, Elenco, Géneros)\n",
    "# Título = String\n",
    "# Ano = Int\n",
    "# Elenco = [Ator]\n",
    "# Ator = String\n",
    "# Géneros = [Género]\n",
    "# Género = String\n",
    "Filme1 = (\"Meet the Parents\", 2000, [\"Ben Stiller\",\"Robert De Niro\",\n",
    "      \"Blythe Danner\",\"Teri Polo\",\"Owen Wilson\"], [\"Comedy\", \"Drama\"])\n",
    "Filme2 = (\"Men of Honor\", 2000, [\"Robert De Niro\",\"Cuba Gooding, Jr.\",\n",
    "      \"Charlize Theron\"], [\"Biography\", \"Drama\", \"Thriller\"])\n",
    "Filme3 = (\"Analyze That\", 2002, [\"Robert De Niro\",\"Billy Crystal\",\n",
    "      \"Lisa Kudrow\"], [\"Comedy\"])\n",
    "CineUM = [Filme1, Filme2, Filme3]"
   ]
  },
  {
   "cell_type": "markdown",
   "id": "89afc758",
   "metadata": {},
   "source": [
    " e especifique funções que calculem o que se descreve a seguir:"
   ]
  },
  {
   "cell_type": "markdown",
   "id": "2156a0c8",
   "metadata": {},
   "source": [
    "### tpc2.a)  Devolve uma lista dos atores participantes nos filmes armazenados, ordenada alfabeticamente e sem repetições:"
   ]
  },
  {
   "cell_type": "code",
   "execution_count": 48,
   "id": "8a5a2a41",
   "metadata": {},
   "outputs": [
    {
     "name": "stdout",
     "output_type": "stream",
     "text": [
      "['Ben Stiller', 'Robert De Niro', 'Blythe Danner', 'Teri Polo', 'Owen Wilson']\n"
     ]
    }
   ],
   "source": [
    "def atores(cinemateca):\n",
    "    res = []\n",
    "    for filme in cinemateca:\n",
    "        for ator in filme[2]:\n",
    "            if ator not in res:\n",
    "                res.append(ator)\n",
    "    return sorted(res)\n",
    "\n",
    "\n",
    "\n",
    "    return atores\n",
    "\n",
    "print(atores(CineUM))\n",
    "# Resultado esperado: ['Ben Stiller', 'Billy Crystal', 'Blythe Danner', 'Charlize Theron', 'Cuba Gooding, Jr.', 'Lisa Kudrow', 'Owen Wilson', 'Robert De Niro', 'Teri Polo']"
   ]
  },
  {
   "cell_type": "markdown",
   "id": "12f9126b",
   "metadata": {},
   "source": [
    "### tpc2.b)  Devolve uma lista de todos os títulos dos filmes, em ordem alfabética, e de um determinado género passado como argumento:"
   ]
  },
  {
   "cell_type": "code",
   "execution_count": null,
   "id": "d9dfe30a",
   "metadata": {},
   "outputs": [],
   "source": [
    "def listarPorGenero(cinemateca, genero):\n",
    "    res = []\n",
    "    for filme in cinemateca:\n",
    "        if genero in filme[3]:\n",
    "            res.append(filme[0])\n",
    "    return sorted(res)\n",
    "\n",
    "\n",
    "print(listarPorGenero(CineUM, \"Comedy\"))\n",
    "# Resultado esperado: ['Analyze That', 'Meet the Parents']"
   ]
  },
  {
   "cell_type": "markdown",
   "id": "1a0f760b",
   "metadata": {},
   "source": [
    "### tpc2.c)  Devolve o título do filme com o maior elenco:"
   ]
  },
  {
   "cell_type": "code",
   "execution_count": null,
   "id": "a00c85e3",
   "metadata": {},
   "outputs": [],
   "source": [
    "\n",
    "def maiorElenco( cinemateca ):\n",
    "    res = \"\"\n",
    "    maior = 0\n",
    "    for filme in cinemateca:\n",
    "        if len(filme[2]) > maior:\n",
    "            maior = len(filme[2])\n",
    "            res = filme[0]\n",
    "    return res\n",
    "\n",
    "print(maiorElenco(CineUM))\n",
    "# Resultado esperado: Meet the Parents"
   ]
  },
  {
   "cell_type": "markdown",
   "id": "65061d0a",
   "metadata": {},
   "source": [
    "### tpc2.d)  Calcula a distribuição de filmes por Género:"
   ]
  },
  {
   "cell_type": "code",
   "execution_count": null,
   "id": "dc1adabc",
   "metadata": {},
   "outputs": [],
   "source": [
    "def filmePorGenero( cinemateca ):\n",
    "    res = {}\n",
    "    for filme in cinemateca:\n",
    "        for genero in filme[3]:\n",
    "            if genero in res:\n",
    "                res[genero] = res[genero] + 1\n",
    "            else:\n",
    "                res[genero] = 1\n",
    "    return res\n",
    "\n",
    "print(filmePorGenero(CineUM))"
   ]
  },
  {
   "cell_type": "markdown",
   "id": "de46a635",
   "metadata": {},
   "source": [
    "### tpc2.e)  Represente num gráfico de barras a distribuição calculada na alínea anterior (pode usar o material que entender das aulas):"
   ]
  },
  {
   "cell_type": "code",
   "execution_count": null,
   "id": "4118730d",
   "metadata": {},
   "outputs": [],
   "source": [
    "import matplotlib.pyplot as plt\n",
    "\n",
    "def filmePorGenero( cinemateca ):\n",
    "    res = {}\n",
    "    for filme in cinemateca:\n",
    "        for genero in filme[3]:\n",
    "            if genero in res:\n",
    "                res[genero] = res[genero] + 1\n",
    "            else:\n",
    "                res[genero] = 1\n",
    "    return res\n",
    "\n",
    "def graficoBarras(distribuicao):\n",
    "    plt.bar(range(len(distribuicao)), distribuicao.values(), align='center')\n",
    "    plt.xticks(range(len(distribuicao)), list(distribuicao.keys()))\n",
    "    plt.show()\n",
    "\n",
    "graficoBarras(filmePorGenero(CineUM))"
   ]
  }
 ],
 "metadata": {
  "kernelspec": {
   "display_name": "Python 3.10.7 64-bit",
   "language": "python",
   "name": "python3"
  },
  "language_info": {
   "codemirror_mode": {
    "name": "ipython",
    "version": 3
   },
   "file_extension": ".py",
   "mimetype": "text/x-python",
   "name": "python",
   "nbconvert_exporter": "python",
   "pygments_lexer": "ipython3",
   "version": "3.10.7"
  },
  "vscode": {
   "interpreter": {
    "hash": "b1b237b07f8acadecb132eef3560c1ba6fea75b8ecd0da4c2dcca869095839f0"
   }
  }
 },
 "nbformat": 4,
 "nbformat_minor": 5
}
